{
 "cells": [
  {
   "cell_type": "code",
   "execution_count": 137,
   "metadata": {},
   "outputs": [],
   "source": [
    "import pandas as pd\n",
    "import os\n",
    "\n",
    "DATA_PATH = os.path.join(os.path.curdir, 'names')"
   ]
  },
  {
   "cell_type": "code",
   "execution_count": 138,
   "metadata": {},
   "outputs": [],
   "source": [
    "def count_top3(year_list):\n",
    "    names_list = []\n",
    "    for year in year_list:\n",
    "        file_path = os.path.join(\n",
    "            DATA_PATH, f'yob{year}.txt'\n",
    "        )\n",
    "        file_data = pd.read_csv(\n",
    "            file_path,\n",
    "            names=['Name', 'Gender', 'Count'],\n",
    "        )\n",
    "        sv = file_data.sort_values(by=['Count'], ascending=False)\n",
    "    max_names = sv.head(3)\n",
    "    for iter in max_names['Name']:\n",
    "        names_list.append(iter)\n",
    "    return names_list"
   ]
  },
  {
   "cell_type": "code",
   "execution_count": 177,
   "metadata": {
    "scrolled": true
   },
   "outputs": [],
   "source": [
    "year_list = [1900, 1933, 1966, 2000]"
   ]
  },
  {
   "cell_type": "code",
   "execution_count": 188,
   "metadata": {},
   "outputs": [],
   "source": [
    "def count_dynamics(year_list):\n",
    "    dynamics_f_list = []\n",
    "    dynamics_m_list = []\n",
    "    dynamics = {\n",
    "        'F': [],\n",
    "        'M': []\n",
    "    }\n",
    "    for year in year_list:\n",
    "        file_path = os.path.join(\n",
    "            DATA_PATH, f'yob{year}.txt'\n",
    "        )\n",
    "        file_data = pd.read_csv(\n",
    "            file_path,\n",
    "            names=['Name', 'Gender', 'Count'],\n",
    "        )\n",
    "        f = file_data.query('Gender == \"F\"')\n",
    "        m = file_data.query('Gender == \"M\"')\n",
    "        dynamics_f_list.append(f['Count'].sum())\n",
    "        dynamics_m_list.append(m['Count'].sum())\n",
    "    dynamics['F'] = dynamics_f_list\n",
    "    dynamics['M'] = dynamics_m_list\n",
    "    return dynamics"
   ]
  },
  {
   "cell_type": "code",
   "execution_count": 189,
   "metadata": {},
   "outputs": [
    {
     "data": {
      "text/plain": [
       "['Jacob', 'Michael', 'Matthew']"
      ]
     },
     "execution_count": 189,
     "metadata": {},
     "output_type": "execute_result"
    }
   ],
   "source": [
    "count_top3(year_list)"
   ]
  },
  {
   "cell_type": "code",
   "execution_count": 190,
   "metadata": {},
   "outputs": [
    {
     "data": {
      "text/plain": [
       "{'F': [299800, 1007826, 1691945, 1815110],\n",
       " 'M': [150483, 991315, 1783729, 1962969]}"
      ]
     },
     "execution_count": 190,
     "metadata": {},
     "output_type": "execute_result"
    }
   ],
   "source": [
    "count_dynamics(year_list)"
   ]
  }
 ],
 "metadata": {
  "kernelspec": {
   "display_name": "Python 3",
   "language": "python",
   "name": "python3"
  },
  "language_info": {
   "codemirror_mode": {
    "name": "ipython",
    "version": 3
   },
   "file_extension": ".py",
   "mimetype": "text/x-python",
   "name": "python",
   "nbconvert_exporter": "python",
   "pygments_lexer": "ipython3",
   "version": "3.6.5"
  }
 },
 "nbformat": 4,
 "nbformat_minor": 2
}
