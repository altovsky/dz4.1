{
 "cells": [
  {
   "cell_type": "code",
   "execution_count": 104,
   "metadata": {},
   "outputs": [],
   "source": [
    "import pandas as pd\n",
    "import os\n",
    "\n",
    "DATA_PATH = os.path.join(os.path.curdir, 'names')"
   ]
  },
  {
   "cell_type": "code",
   "execution_count": 107,
   "metadata": {},
   "outputs": [],
   "source": [
    "def count_top3(year_list):\n",
    "    names_list = []\n",
    "    for year in year_list:\n",
    "        file_path = os.path.join(\n",
    "            DATA_PATH, f'yob{year}.txt'\n",
    "        )\n",
    "        file_data = pd.read_csv(\n",
    "            file_path,\n",
    "            names=['Name', 'Gender', 'Count'],\n",
    "        )\n",
    "        sv = file_data.sort_values(by=['Count'], ascending=False)\n",
    "    max_names = sv.head(3)\n",
    "#         print(max_names)\n",
    "    for i in max_names['Name']:\n",
    "        names_list.append(i)\n",
    "    return names_list"
   ]
  },
  {
   "cell_type": "code",
   "execution_count": 128,
   "metadata": {
    "scrolled": true
   },
   "outputs": [
    {
     "data": {
      "text/plain": [
       "['Michael', 'Christopher', 'Jessica']"
      ]
     },
     "execution_count": 128,
     "metadata": {},
     "output_type": "execute_result"
    }
   ],
   "source": [
    "year_list = [1950, 1970, 1990]\n",
    "count_top3(year_list)"
   ]
  }
 ],
 "metadata": {
  "kernelspec": {
   "display_name": "Python 3",
   "language": "python",
   "name": "python3"
  },
  "language_info": {
   "codemirror_mode": {
    "name": "ipython",
    "version": 3
   },
   "file_extension": ".py",
   "mimetype": "text/x-python",
   "name": "python",
   "nbconvert_exporter": "python",
   "pygments_lexer": "ipython3",
   "version": "3.6.5"
  }
 },
 "nbformat": 4,
 "nbformat_minor": 2
}
